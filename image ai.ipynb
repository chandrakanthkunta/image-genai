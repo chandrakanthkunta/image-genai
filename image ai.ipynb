
import streamlit as st
from diffusers import StableDiffusionPipeline
import torch
from PIL import Image
from io import BytesIO

model_id = "runwayml/stable-diffusion-v1-5"
pipe = StableDiffusionPipeline.from_pretrained(model_id, torch_dtype=torch.float16)
pipe.to("cuda")  # Use GPU for faster generation


def generate_image(prompt):
    # Generate the image based on the prompt
    image = pipe(prompt).images[0]
    return image

# Streamlit UI
st.title("Funny Image Generator")
st.write("Generate a funny image with any quirky prompt!")

prompt = st.text_input("Enter your image prompt", 
                      "A cartoon heart wearing sunglasses, holding a bouquet of roses, riding a skateboard through a cloud of chocolate kisses, with a love-struck penguin in the background trying to keep up, all under a neon sign that says 'Be Mine' in a comic style.")

if st.button("Generate Image"):
    if prompt:
        with st.spinner('Generating image...'):
            image = generate_image(prompt)
            st.image(image, caption="Generated Image", use_column_width=True)

            # Convert the image to BytesIO for downloading
            buffered = BytesIO()
            image.save(buffered, format="PNG")
            st.download_button("Download Image", buffered.getvalue(), file_name="generated_image.png")
    else:
        st.warning("Please enter a prompt!")

